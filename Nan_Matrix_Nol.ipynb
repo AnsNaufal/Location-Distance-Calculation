{
  "nbformat": 4,
  "nbformat_minor": 0,
  "metadata": {
    "colab": {
      "provenance": []
    },
    "kernelspec": {
      "name": "python3",
      "display_name": "Python 3"
    },
    "language_info": {
      "name": "python"
    }
  },
  "cells": [
    {
      "cell_type": "code",
      "source": [
        "import pandas as pd\n",
        "import requests"
      ],
      "metadata": {
        "id": "FNd9sro2PQ5k"
      },
      "execution_count": null,
      "outputs": []
    },
    {
      "cell_type": "code",
      "source": [
        "# Fungsi untuk menghitung jarak menggunakan OSRM\n",
        "def get_distance(latlong_origin, latlong_destination):\n",
        "    # Memastikan bahwa latlong dipecah dengan benar\n",
        "    lat_origin, lon_origin = map(float, latlong_origin.split(','))\n",
        "    lat_dest, lon_dest = map(float, latlong_destination.split(','))\n",
        "\n",
        "    origin = f\"{lon_origin},{lat_origin}\"\n",
        "    destination = f\"{lon_dest},{lat_dest}\"\n",
        "\n",
        "    url = f\"http://router.project-osrm.org/route/v1/driving/{origin};{destination}?overview=false\"\n",
        "    response = requests.get(url)\n",
        "\n",
        "    if response.status_code == 200:\n",
        "        routes = response.json()\n",
        "        if routes.get(\"routes\"):\n",
        "            route_1 = routes.get(\"routes\")[0]\n",
        "            distance = route_1['legs'][0][\"distance\"] / 1000  # Jarak dalam kilometer\n",
        "            return distance\n",
        "        else:\n",
        "            print(f\"Rute tidak ditemukan dari {latlong_origin} ke {latlong_destination}.\")\n",
        "            return None\n",
        "    else:\n",
        "        print(f\"Permintaan gagal dari {latlong_origin} ke {latlong_destination} dengan status: {response.status_code}\")\n",
        "        return None"
      ],
      "metadata": {
        "id": "hCTbHApCPYjH"
      },
      "execution_count": null,
      "outputs": []
    },
    {
      "cell_type": "code",
      "source": [
        "df = pd.read_excel('/content/MatrixNolEdit.xlsx')\n",
        "\n",
        "# Membuat kolom untuk menyimpan hasil perhitungan jarak\n",
        "df['Distance (km)'] = df.apply(lambda row: get_distance(row['Latlong Origin'], row['Latlong Destination']), axis=1)\n",
        "\n",
        "# Menambahkan kolom untuk mendeteksi apakah jarak lebih dari 60 km atau kurang dari 60 km\n",
        "df['Distance Status'] = df['Distance (km)'].apply(lambda x: '>60 KM' if x > 60 else '<60 KM')\n",
        "\n",
        "# Menyimpan hasil ke file Excel baru\n",
        "df.to_excel('hasil_jarak_dengan_status.xlsx', index=False)\n",
        "\n",
        "print(\"Perhitungan jarak selesai. Hasil disimpan di 'hasil_jarak_dengan_status.xlsx'.\")"
      ],
      "metadata": {
        "colab": {
          "base_uri": "https://localhost:8080/"
        },
        "id": "NhBR0c-8PZ4r",
        "outputId": "4fd21b32-fd10-47cc-a5de-226866ee64c9"
      },
      "execution_count": null,
      "outputs": [
        {
          "output_type": "stream",
          "name": "stdout",
          "text": [
            "Perhitungan jarak selesai. Hasil disimpan di 'hasil_jarak_dengan_status.xlsx'.\n"
          ]
        }
      ]
    }
  ]
}